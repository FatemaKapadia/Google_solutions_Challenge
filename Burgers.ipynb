{
 "cells": [
  {
   "cell_type": "markdown",
   "metadata": {},
   "source": [
    "<!-- Importing Libraries -->"
   ]
  },
  {
   "cell_type": "markdown",
   "metadata": {},
   "source": [
    "# Importing Libraries"
   ]
  },
  {
   "cell_type": "code",
   "execution_count": 75,
   "metadata": {},
   "outputs": [],
   "source": [
    "import pandas as pd\n",
    "import numpy as np\n",
    "import matplotlib.pyplot as plt\n",
    "import datetime\n",
    "import seaborn as sns"
   ]
  },
  {
   "cell_type": "markdown",
   "metadata": {},
   "source": [
    "# Importing Dataset"
   ]
  },
  {
   "cell_type": "code",
   "execution_count": 76,
   "metadata": {},
   "outputs": [],
   "source": [
    "date = pd.read_csv(r\"E:\\Solution Challenge\\Cafe\\Cafe+-+DateInfo.csv\")\n",
    "transaction = pd.read_csv(r\"E:\\Solution Challenge\\Cafe\\Cafe+-+Transaction+-+Store.csv\")"
   ]
  },
  {
   "cell_type": "markdown",
   "metadata": {},
   "source": [
    "# Filtering Data"
   ]
  },
  {
   "cell_type": "code",
   "execution_count": 77,
   "metadata": {},
   "outputs": [],
   "source": [
    "transaction = transaction[transaction[\"SELL_ID\"] == 1070]"
   ]
  },
  {
   "cell_type": "code",
   "execution_count": 78,
   "metadata": {},
   "outputs": [],
   "source": [
    "transaction['YEAR'] = pd.DatetimeIndex(transaction['CALENDAR_DATE']).year\n",
    "transaction['DATE'] = pd.DatetimeIndex(transaction['CALENDAR_DATE']).day"
   ]
  },
  {
   "cell_type": "code",
   "execution_count": 79,
   "metadata": {},
   "outputs": [],
   "source": [
    "transaction = transaction[transaction[\"YEAR\"] == 2012]"
   ]
  },
  {
   "cell_type": "code",
   "execution_count": 80,
   "metadata": {},
   "outputs": [],
   "source": [
    "transaction = transaction.reset_index(drop = True)"
   ]
  },
  {
   "cell_type": "code",
   "execution_count": 81,
   "metadata": {},
   "outputs": [],
   "source": [
    "transaction = transaction.drop(['PRICE', 'SELL_CATEGORY'], axis = 1)\n"
   ]
  },
  {
   "cell_type": "code",
   "execution_count": 82,
   "metadata": {},
   "outputs": [],
   "source": [
    "date = date[date[\"YEAR\"] == 2012]"
   ]
  },
  {
   "cell_type": "code",
   "execution_count": 83,
   "metadata": {},
   "outputs": [],
   "source": [
    "date = date.drop(['CALENDAR_DATE', 'YEAR','IS_SCHOOLBREAK'], axis = 1)"
   ]
  },
  {
   "cell_type": "markdown",
   "metadata": {},
   "source": [
    "# Merging Datasets"
   ]
  },
  {
   "cell_type": "code",
   "execution_count": 84,
   "metadata": {},
   "outputs": [],
   "source": [
    "transaction['HOLIDAY'] = date['HOLIDAY']\n",
    "transaction['IS_WEEKEND'] = date['IS_WEEKEND']\n",
    "transaction['IS_OUTDOOR'] = date['IS_OUTDOOR']\n",
    "transaction['AVERAGE_TEMPERATURE'] = date['AVERAGE_TEMPERATURE']"
   ]
  },
  {
   "cell_type": "code",
   "execution_count": 85,
   "metadata": {},
   "outputs": [
    {
     "data": {
      "text/html": [
       "<div>\n",
       "<style scoped>\n",
       "    .dataframe tbody tr th:only-of-type {\n",
       "        vertical-align: middle;\n",
       "    }\n",
       "\n",
       "    .dataframe tbody tr th {\n",
       "        vertical-align: top;\n",
       "    }\n",
       "\n",
       "    .dataframe thead th {\n",
       "        text-align: right;\n",
       "    }\n",
       "</style>\n",
       "<table border=\"1\" class=\"dataframe\">\n",
       "  <thead>\n",
       "    <tr style=\"text-align: right;\">\n",
       "      <th></th>\n",
       "      <th>CALENDAR_DATE</th>\n",
       "      <th>QUANTITY</th>\n",
       "      <th>SELL_ID</th>\n",
       "      <th>YEAR</th>\n",
       "      <th>DATE</th>\n",
       "      <th>HOLIDAY</th>\n",
       "      <th>IS_WEEKEND</th>\n",
       "      <th>IS_OUTDOOR</th>\n",
       "      <th>AVERAGE_TEMPERATURE</th>\n",
       "    </tr>\n",
       "  </thead>\n",
       "  <tbody>\n",
       "    <tr>\n",
       "      <th>0</th>\n",
       "      <td>01/01/12</td>\n",
       "      <td>46</td>\n",
       "      <td>1070</td>\n",
       "      <td>2012</td>\n",
       "      <td>1</td>\n",
       "      <td>New Year</td>\n",
       "      <td>1</td>\n",
       "      <td>0</td>\n",
       "      <td>24.8</td>\n",
       "    </tr>\n",
       "    <tr>\n",
       "      <th>1</th>\n",
       "      <td>01/02/12</td>\n",
       "      <td>70</td>\n",
       "      <td>1070</td>\n",
       "      <td>2012</td>\n",
       "      <td>2</td>\n",
       "      <td>New Year</td>\n",
       "      <td>0</td>\n",
       "      <td>0</td>\n",
       "      <td>24.8</td>\n",
       "    </tr>\n",
       "    <tr>\n",
       "      <th>2</th>\n",
       "      <td>01/03/12</td>\n",
       "      <td>62</td>\n",
       "      <td>1070</td>\n",
       "      <td>2012</td>\n",
       "      <td>3</td>\n",
       "      <td>New Year</td>\n",
       "      <td>0</td>\n",
       "      <td>1</td>\n",
       "      <td>32.0</td>\n",
       "    </tr>\n",
       "    <tr>\n",
       "      <th>3</th>\n",
       "      <td>01/04/12</td>\n",
       "      <td>88</td>\n",
       "      <td>1070</td>\n",
       "      <td>2012</td>\n",
       "      <td>4</td>\n",
       "      <td>NaN</td>\n",
       "      <td>0</td>\n",
       "      <td>1</td>\n",
       "      <td>32.0</td>\n",
       "    </tr>\n",
       "    <tr>\n",
       "      <th>4</th>\n",
       "      <td>01/05/12</td>\n",
       "      <td>104</td>\n",
       "      <td>1070</td>\n",
       "      <td>2012</td>\n",
       "      <td>5</td>\n",
       "      <td>NaN</td>\n",
       "      <td>0</td>\n",
       "      <td>0</td>\n",
       "      <td>24.8</td>\n",
       "    </tr>\n",
       "  </tbody>\n",
       "</table>\n",
       "</div>"
      ],
      "text/plain": [
       "  CALENDAR_DATE  QUANTITY  SELL_ID  YEAR  DATE   HOLIDAY  IS_WEEKEND  \\\n",
       "0      01/01/12        46     1070  2012     1  New Year           1   \n",
       "1      01/02/12        70     1070  2012     2  New Year           0   \n",
       "2      01/03/12        62     1070  2012     3  New Year           0   \n",
       "3      01/04/12        88     1070  2012     4       NaN           0   \n",
       "4      01/05/12       104     1070  2012     5       NaN           0   \n",
       "\n",
       "   IS_OUTDOOR  AVERAGE_TEMPERATURE  \n",
       "0           0                 24.8  \n",
       "1           0                 24.8  \n",
       "2           1                 32.0  \n",
       "3           1                 32.0  \n",
       "4           0                 24.8  "
      ]
     },
     "execution_count": 85,
     "metadata": {},
     "output_type": "execute_result"
    }
   ],
   "source": [
    "transaction.head()"
   ]
  },
  {
   "cell_type": "code",
   "execution_count": 86,
   "metadata": {},
   "outputs": [
    {
     "name": "stdout",
     "output_type": "stream",
     "text": [
      "<class 'pandas.core.frame.DataFrame'>\n",
      "RangeIndex: 365 entries, 0 to 364\n",
      "Data columns (total 9 columns):\n",
      " #   Column               Non-Null Count  Dtype  \n",
      "---  ------               --------------  -----  \n",
      " 0   CALENDAR_DATE        365 non-null    object \n",
      " 1   QUANTITY             365 non-null    int64  \n",
      " 2   SELL_ID              365 non-null    int64  \n",
      " 3   YEAR                 365 non-null    int64  \n",
      " 4   DATE                 365 non-null    int64  \n",
      " 5   HOLIDAY              29 non-null     object \n",
      " 6   IS_WEEKEND           365 non-null    int64  \n",
      " 7   IS_OUTDOOR           365 non-null    int64  \n",
      " 8   AVERAGE_TEMPERATURE  365 non-null    float64\n",
      "dtypes: float64(1), int64(6), object(2)\n",
      "memory usage: 25.8+ KB\n"
     ]
    }
   ],
   "source": [
    "transaction.info()"
   ]
  },
  {
   "cell_type": "code",
   "execution_count": 87,
   "metadata": {},
   "outputs": [],
   "source": [
    "def bar_plot(variable):\n",
    "    # get feature\n",
    "    var = transaction[variable]\n",
    "    # count number of categorical variable(value/sample)\n",
    "    varValue = var.value_counts()\n",
    "    \n",
    "    # visualize\n",
    "    plt.figure(figsize = (9,3))\n",
    "    plt.bar(varValue.index, varValue)\n",
    "    plt.xticks(varValue.index, varValue.index.values)\n",
    "    plt.ylabel(\"Frequency\")\n",
    "    plt.title(variable)\n",
    "    plt.show()\n",
    "    print(\"{}:\\n{}\".format(variable,varValue))"
   ]
  },
  {
   "cell_type": "code",
   "execution_count": 88,
   "metadata": {},
   "outputs": [
    {
     "data": {
      "image/png": "[encoded data removed]",
      "text/plain": [
       "<Figure size 648x216 with 1 Axes>"
      ]
     },
     "metadata": {},
     "output_type": "display_data"
    },
    {
     "name": "stdout",
     "output_type": "stream",
     "text": [
      "HOLIDAY:\n",
      "Luner New Year          7\n",
      "National Day            7\n",
      "Labor Day               3\n",
      "Dragon Boat Festivel    3\n",
      "New Year                3\n",
      "Mid-Autumn Day          3\n",
      "Qing Ming Festival      3\n",
      "Name: HOLIDAY, dtype: int64\n"
     ]
    },
    {
     "data": {
      "image/png": "[encoded data removed]",
      "text/plain": [
       "<Figure size 648x216 with 1 Axes>"
      ]
     },
     "metadata": {},
     "output_type": "display_data"
    },
    {
     "name": "stdout",
     "output_type": "stream",
     "text": [
      "IS_WEEKEND:\n",
      "0    260\n",
      "1    105\n",
      "Name: IS_WEEKEND, dtype: int64\n"
     ]
    },
    {
     "data": {
      "image/png": "[encoded data removed]",
      "text/plain": [
       "<Figure size 648x216 with 1 Axes>"
      ]
     },
     "metadata": {},
     "output_type": "display_data"
    },
    {
     "name": "stdout",
     "output_type": "stream",
     "text": [
      "IS_OUTDOOR:\n",
      "1    325\n",
      "0     40\n",
      "Name: IS_OUTDOOR, dtype: int64\n"
     ]
    },
    {
     "data": {
      "image/png": "[encoded data removed]",
      "text/plain": [
       "<Figure size 648x216 with 1 Axes>"
      ]
     },
     "metadata": {},
     "output_type": "display_data"
    },
    {
     "name": "stdout",
     "output_type": "stream",
     "text": [
      "AVERAGE_TEMPERATURE:\n",
      "32.0    31\n",
      "80.6    22\n",
      "82.4    17\n",
      "77.0    15\n",
      "66.2    14\n",
      "78.8    14\n",
      "57.2    13\n",
      "24.8    13\n",
      "75.2    13\n",
      "30.2    11\n",
      "62.6    11\n",
      "60.8    11\n",
      "69.8    11\n",
      "50.0    10\n",
      "53.6     9\n",
      "23.0     9\n",
      "59.0     9\n",
      "84.2     9\n",
      "37.4     9\n",
      "71.6     9\n",
      "73.4     9\n",
      "39.2     9\n",
      "26.6     8\n",
      "46.4     8\n",
      "44.6     8\n",
      "68.0     8\n",
      "28.4     7\n",
      "64.4     6\n",
      "42.8     6\n",
      "51.8     6\n",
      "33.8     6\n",
      "35.6     5\n",
      "55.4     5\n",
      "41.0     5\n",
      "86.0     4\n",
      "48.2     4\n",
      "21.2     1\n",
      "Name: AVERAGE_TEMPERATURE, dtype: int64\n"
     ]
    }
   ],
   "source": [
    "sns.set_style('darkgrid')\n",
    "categorical_variables = ['HOLIDAY','IS_WEEKEND','IS_OUTDOOR','AVERAGE_TEMPERATURE']\n",
    "for c in categorical_variables:\n",
    "    bar_plot(c)"
   ]
  },
  {
   "cell_type": "code",
   "execution_count": 89,
   "metadata": {},
   "outputs": [
    {
     "data": {
      "text/plain": [
       "CALENDAR_DATE           object\n",
       "QUANTITY                 int64\n",
       "SELL_ID                  int64\n",
       "YEAR                     int64\n",
       "DATE                     int64\n",
       "HOLIDAY                 object\n",
       "IS_WEEKEND               int64\n",
       "IS_OUTDOOR               int64\n",
       "AVERAGE_TEMPERATURE    float64\n",
       "dtype: object"
      ]
     },
     "execution_count": 89,
     "metadata": {},
     "output_type": "execute_result"
    }
   ],
   "source": [
    "transaction.dtypes"
   ]
  },
  {
   "cell_type": "markdown",
   "metadata": {},
   "source": [
    "# Basic Data Analysis"
   ]
  },
  {
   "cell_type": "code",
   "execution_count": null,
   "metadata": {},
   "outputs": [],
   "source": [
    "Average stroke rate by gender"
   ]
  },
  {
   "cell_type": "code",
   "execution_count": 90,
   "metadata": {},
   "outputs": [
    {
     "data": {
      "text/html": [
       "<div>\n",
       "<style scoped>\n",
       "    .dataframe tbody tr th:only-of-type {\n",
       "        vertical-align: middle;\n",
       "    }\n",
       "\n",
       "    .dataframe tbody tr th {\n",
       "        vertical-align: top;\n",
       "    }\n",
       "\n",
       "    .dataframe thead th {\n",
       "        text-align: right;\n",
       "    }\n",
       "</style>\n",
       "<table border=\"1\" class=\"dataframe\">\n",
       "  <thead>\n",
       "    <tr style=\"text-align: right;\">\n",
       "      <th></th>\n",
       "      <th>HOLIDAY</th>\n",
       "      <th>QUANTITY</th>\n",
       "    </tr>\n",
       "  </thead>\n",
       "  <tbody>\n",
       "    <tr>\n",
       "      <th>1</th>\n",
       "      <td>Labor Day</td>\n",
       "      <td>63.333333</td>\n",
       "    </tr>\n",
       "    <tr>\n",
       "      <th>3</th>\n",
       "      <td>Mid-Autumn Day</td>\n",
       "      <td>61.333333</td>\n",
       "    </tr>\n",
       "    <tr>\n",
       "      <th>6</th>\n",
       "      <td>Qing Ming Festival</td>\n",
       "      <td>61.333333</td>\n",
       "    </tr>\n",
       "    <tr>\n",
       "      <th>0</th>\n",
       "      <td>Dragon Boat Festivel</td>\n",
       "      <td>60.666667</td>\n",
       "    </tr>\n",
       "    <tr>\n",
       "      <th>5</th>\n",
       "      <td>New Year</td>\n",
       "      <td>59.333333</td>\n",
       "    </tr>\n",
       "    <tr>\n",
       "      <th>4</th>\n",
       "      <td>National Day</td>\n",
       "      <td>56.571429</td>\n",
       "    </tr>\n",
       "    <tr>\n",
       "      <th>2</th>\n",
       "      <td>Luner New Year</td>\n",
       "      <td>54.000000</td>\n",
       "    </tr>\n",
       "  </tbody>\n",
       "</table>\n",
       "</div>"
      ],
      "text/plain": [
       "                HOLIDAY   QUANTITY\n",
       "1             Labor Day  63.333333\n",
       "3        Mid-Autumn Day  61.333333\n",
       "6    Qing Ming Festival  61.333333\n",
       "0  Dragon Boat Festivel  60.666667\n",
       "5              New Year  59.333333\n",
       "4          National Day  56.571429\n",
       "2        Luner New Year  54.000000"
      ]
     },
     "execution_count": 90,
     "metadata": {},
     "output_type": "execute_result"
    }
   ],
   "source": [
    "transaction[[\"HOLIDAY\",\"QUANTITY\"]].groupby([\"HOLIDAY\"], as_index = False).mean().sort_values(by=\"QUANTITY\",ascending = False)"
   ]
  },
  {
   "cell_type": "code",
   "execution_count": 91,
   "metadata": {},
   "outputs": [
    {
     "data": {
      "text/html": [
       "<div>\n",
       "<style scoped>\n",
       "    .dataframe tbody tr th:only-of-type {\n",
       "        vertical-align: middle;\n",
       "    }\n",
       "\n",
       "    .dataframe tbody tr th {\n",
       "        vertical-align: top;\n",
       "    }\n",
       "\n",
       "    .dataframe thead th {\n",
       "        text-align: right;\n",
       "    }\n",
       "</style>\n",
       "<table border=\"1\" class=\"dataframe\">\n",
       "  <thead>\n",
       "    <tr style=\"text-align: right;\">\n",
       "      <th></th>\n",
       "      <th>HOLIDAY</th>\n",
       "      <th>QUANTITY</th>\n",
       "    </tr>\n",
       "  </thead>\n",
       "  <tbody>\n",
       "    <tr>\n",
       "      <th>1</th>\n",
       "      <td>Labor Day</td>\n",
       "      <td>63.333333</td>\n",
       "    </tr>\n",
       "    <tr>\n",
       "      <th>3</th>\n",
       "      <td>Mid-Autumn Day</td>\n",
       "      <td>61.333333</td>\n",
       "    </tr>\n",
       "    <tr>\n",
       "      <th>6</th>\n",
       "      <td>Qing Ming Festival</td>\n",
       "      <td>61.333333</td>\n",
       "    </tr>\n",
       "    <tr>\n",
       "      <th>0</th>\n",
       "      <td>Dragon Boat Festivel</td>\n",
       "      <td>60.666667</td>\n",
       "    </tr>\n",
       "    <tr>\n",
       "      <th>5</th>\n",
       "      <td>New Year</td>\n",
       "      <td>59.333333</td>\n",
       "    </tr>\n",
       "    <tr>\n",
       "      <th>4</th>\n",
       "      <td>National Day</td>\n",
       "      <td>56.571429</td>\n",
       "    </tr>\n",
       "    <tr>\n",
       "      <th>2</th>\n",
       "      <td>Luner New Year</td>\n",
       "      <td>54.000000</td>\n",
       "    </tr>\n",
       "  </tbody>\n",
       "</table>\n",
       "</div>"
      ],
      "text/plain": [
       "                HOLIDAY   QUANTITY\n",
       "1             Labor Day  63.333333\n",
       "3        Mid-Autumn Day  61.333333\n",
       "6    Qing Ming Festival  61.333333\n",
       "0  Dragon Boat Festivel  60.666667\n",
       "5              New Year  59.333333\n",
       "4          National Day  56.571429\n",
       "2        Luner New Year  54.000000"
      ]
     },
     "execution_count": 91,
     "metadata": {},
     "output_type": "execute_result"
    }
   ],
   "source": [
    "transaction[[\"HOLIDAY\",\"QUANTITY\"]].groupby([\"HOLIDAY\"], as_index = False).mean().sort_values(by=\"QUANTITY\",ascending = False)"
   ]
  }
 ],
 "metadata": {
  "kernelspec": {
   "display_name": "Python 3",
   "language": "python",
   "name": "python3"
  },
  "language_info": {
   "codemirror_mode": {
    "name": "ipython",
    "version": 3
   },
   "file_extension": ".py",
   "mimetype": "text/x-python",
   "name": "python",
   "nbconvert_exporter": "python",
   "pygments_lexer": "ipython3",
   "version": "3.8.5"
  }
 },
 "nbformat": 4,
 "nbformat_minor": 4
}
